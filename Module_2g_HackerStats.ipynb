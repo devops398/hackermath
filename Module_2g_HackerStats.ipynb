{
 "cells": [
  {
   "cell_type": "markdown",
   "metadata": {},
   "source": [
    "# Basic stats"
   ]
  },
  {
   "cell_type": "markdown",
   "metadata": {},
   "source": [
    "A shoe company launches a premium shoe model SC-X01. The sales for the first month (in USD) are given below:\n",
    "\n",
    "[54, 69, 50, 57, 70, 69, 52, 46, 60, 42, 57, 64, 58, 60, 40, 63, 60, 70, 57, 71, 66, 67, 68, 42, 46, 50, 48, 65, 45, 45]\n",
    "\n",
    "Ignoring all other effects (eg: holidays, seasonality, new-ness factor, etc), can you provide an estimate of the average sales the company should expect? \n",
    "\n",
    "What is the variability around that average estimate that you are providing?\n",
    "\n",
    "The marketing manager has heard about the term `confidence interval`. Can you provide that for the estimate and explain what it means to the marketing manager?"
   ]
  },
  {
   "cell_type": "code",
   "execution_count": 1,
   "metadata": {
    "collapsed": true
   },
   "outputs": [],
   "source": [
    "import numpy as np\n",
    "import seaborn as sns\n",
    "sns.set(color_codes=True)\n",
    "%matplotlib inline"
   ]
  },
  {
   "cell_type": "code",
   "execution_count": 2,
   "metadata": {
    "collapsed": true
   },
   "outputs": [],
   "source": [
    "# Get the data into a numpy array\n",
    "sales_1 = np.array([54, 69, 50, 57, 70, 69, 52, 46, 60, 42, 57, 64, 58, \n",
    "                    60, 40, 63, 60, 70, 57, 71, 66, 67, 68, 42, 46, 50, \n",
    "                    48, 65, 45, 45])"
   ]
  },
  {
   "cell_type": "code",
   "execution_count": 3,
   "metadata": {},
   "outputs": [
    {
     "data": {
      "text/plain": [
       "57.033333333333331"
      ]
     },
     "execution_count": 3,
     "metadata": {},
     "output_type": "execute_result"
    }
   ],
   "source": [
    "# Find mean of sales_1\n",
    "\n",
    "np.mean(sales_1)"
   ]
  },
  {
   "cell_type": "markdown",
   "metadata": {},
   "source": [
    "But the above is based on one sample. How do I get an estimate for the population?\n",
    "\n",
    "**Resampling/Bootstrapping**"
   ]
  },
  {
   "cell_type": "code",
   "execution_count": 4,
   "metadata": {
    "collapsed": true
   },
   "outputs": [],
   "source": [
    "# Let's create a bootstrap sample - we will use np.random.choice\n",
    "\n",
    "?np.random.choice"
   ]
  },
  {
   "cell_type": "code",
   "execution_count": 5,
   "metadata": {
    "collapsed": true
   },
   "outputs": [],
   "source": [
    "#create a bootstrap sample from sales_1\n",
    "sample_1 = np.random.choice(sales_1, 30)"
   ]
  },
  {
   "cell_type": "code",
   "execution_count": 6,
   "metadata": {},
   "outputs": [
    {
     "data": {
      "text/plain": [
       "array([64, 40, 71, 46, 68, 69, 50, 42, 52, 58, 42, 68, 50, 42, 42, 67, 71,\n",
       "       45, 60, 45, 46, 70, 70, 46, 66, 50, 54, 50, 71, 67])"
      ]
     },
     "execution_count": 6,
     "metadata": {},
     "output_type": "execute_result"
    }
   ],
   "source": [
    "sample_1"
   ]
  },
  {
   "cell_type": "code",
   "execution_count": 7,
   "metadata": {},
   "outputs": [
    {
     "data": {
      "text/plain": [
       "56.06666666666667"
      ]
     },
     "execution_count": 7,
     "metadata": {},
     "output_type": "execute_result"
    }
   ],
   "source": [
    "#mean of sample_1\n",
    "np.mean(sample_1)"
   ]
  },
  {
   "cell_type": "code",
   "execution_count": 8,
   "metadata": {
    "collapsed": true
   },
   "outputs": [],
   "source": [
    "# Now, let's write a function that returns mean of n bootstrap samples\n",
    "\n",
    "def bootstrap_sample_mean(input, num_samples):\n",
    "    \"\"\"\n",
    "      Function that generates bootstrap sample, computes its mean and return the array\n",
    "      \n",
    "      Arguments:\n",
    "         input : the input array for which bootstrap sample has to be generated\n",
    "         num_samples: num of times the sample has to be generated\n",
    "         \n",
    "      output:\n",
    "         bootstrap_mean : This returns the mean of each of the bootstrap sample as a numpy array\n",
    "    \n",
    "    \"\"\"\n",
    "    \n",
    "    bootstrap_mean = np.zeros([num_samples, 1])\n",
    "    \n",
    "    for i in np.arange(num_samples):\n",
    "        sample = np.random.choice(input, input.shape[0])\n",
    "        bootstrap_mean[i] = np.mean(sample)\n",
    "        \n",
    "    return bootstrap_mean"
   ]
  },
  {
   "cell_type": "code",
   "execution_count": 9,
   "metadata": {
    "collapsed": true
   },
   "outputs": [],
   "source": [
    "bootstrap_mean = bootstrap_sample_mean(sales_1, 5)"
   ]
  },
  {
   "cell_type": "code",
   "execution_count": 10,
   "metadata": {},
   "outputs": [
    {
     "data": {
      "text/plain": [
       "<matplotlib.axes._subplots.AxesSubplot at 0x7f947fe46be0>"
      ]
     },
     "execution_count": 10,
     "metadata": {},
     "output_type": "execute_result"
    },
    {
     "data": {
      "image/png": "[encoded data removed]",
      "text/plain": [
       "<matplotlib.figure.Figure at 0x7f947fddc748>"
      ]
     },
     "metadata": {},
     "output_type": "display_data"
    }
   ],
   "source": [
    "sns.distplot(bootstrap_mean, kde=False)"
   ]
  },
  {
   "cell_type": "code",
   "execution_count": 11,
   "metadata": {
    "collapsed": true
   },
   "outputs": [],
   "source": [
    "#What is the variability around this estimate?\n",
    "# this is referred to as standard error of the estimate"
   ]
  },
  {
   "cell_type": "code",
   "execution_count": 12,
   "metadata": {},
   "outputs": [
    {
     "data": {
      "text/plain": [
       "1.9794050733602864"
      ]
     },
     "execution_count": 12,
     "metadata": {},
     "output_type": "execute_result"
    }
   ],
   "source": [
    "np.std(bootstrap_mean)"
   ]
  },
  {
   "cell_type": "code",
   "execution_count": 13,
   "metadata": {
    "collapsed": true
   },
   "outputs": [],
   "source": [
    "# Of course, this is small sample. So, generate it for a number of samples (say: 100k). \n",
    "# Report the estimate and standard error"
   ]
  },
  {
   "cell_type": "code",
   "execution_count": 14,
   "metadata": {
    "collapsed": true
   },
   "outputs": [],
   "source": [
    "# Mean\n"
   ]
  },
  {
   "cell_type": "code",
   "execution_count": 15,
   "metadata": {
    "collapsed": true
   },
   "outputs": [],
   "source": [
    "# Standard Error\n"
   ]
  },
  {
   "cell_type": "code",
   "execution_count": 16,
   "metadata": {},
   "outputs": [
    {
     "data": {
      "text/plain": [
       "1.7885223679161515"
      ]
     },
     "execution_count": 16,
     "metadata": {},
     "output_type": "execute_result"
    }
   ],
   "source": [
    "# Bonus - this is how the standard error is obtained using scipy\n",
    "\n",
    "from scipy import stats\n",
    "stats.sem(sales_1)"
   ]
  },
  {
   "cell_type": "markdown",
   "metadata": {
    "collapsed": true
   },
   "source": [
    "### A/B Testing\n",
    "\n",
    "The shoe company, after a month of sales, got endorsed by the current MVP of NBA. \n",
    "\n",
    "The sales for the second month after lunch, and the first month after endorsement is as follows:\n",
    "\n",
    "[64, 60, 52, 51, 49, 71, 71, 68, 56, 43, 71, 61, 43, 47, 40, 42, 42, 42, 54, 45, 59, 44, 64, 63, 59, 40, 55, 61, 57, 63]\n",
    "\n",
    "Did the endorsement impact the sales positively? "
   ]
  },
  {
   "cell_type": "code",
   "execution_count": 39,
   "metadata": {
    "collapsed": true
   },
   "outputs": [],
   "source": [
    "# Load 2nd month sales data\n",
    "sales_2 = np.array([64, 60, 52, 51, 69, 71, 71, 68, 56, 63, 71, 61, 63, 67, 60, 62, 72,\n",
    "       42, 54, 45, 59, 44, 64, 63, 59, 40, 55, 61, 57, 63])"
   ]
  },
  {
   "cell_type": "code",
   "execution_count": 40,
   "metadata": {},
   "outputs": [
    {
     "data": {
      "text/plain": [
       "59.56666666666667"
      ]
     },
     "execution_count": 40,
     "metadata": {},
     "output_type": "execute_result"
    }
   ],
   "source": [
    "# find mean of sales_2\n",
    "np.mean(sales_2)"
   ]
  },
  {
   "cell_type": "code",
   "execution_count": 90,
   "metadata": {},
   "outputs": [
    {
     "data": {
      "text/plain": [
       "2.5333333333333385"
      ]
     },
     "execution_count": 90,
     "metadata": {},
     "output_type": "execute_result"
    }
   ],
   "source": [
    "# The difference between the two means:\n",
    "shoe_sales_diff = np.mean(sales_2) - np.mean(sales_1)\n",
    "shoe_sales_diff"
   ]
  },
  {
   "cell_type": "code",
   "execution_count": 26,
   "metadata": {
    "collapsed": true
   },
   "outputs": [],
   "source": [
    "# So, sales improved, on average, by 2.53 shoes. But is it statistically significant?"
   ]
  },
  {
   "cell_type": "markdown",
   "metadata": {},
   "source": [
    "This is the approach we are going to take:\n",
    "\n",
    "- We will assign label to sales before endorsement as 1 and sales after endorsement as 2\n",
    "- The observed difference is given in the above cell\n",
    "- We will then randomly shuffle the labels between the two groups \n",
    "- Compute the mean between the two groups. \n",
    "- Find the % of times when the difference between the means computed is greater than what we observed above\n",
    "- If the % of times is less than x%, we would make the call that the improvements are real  (generally x is taken as 5)"
   ]
  },
  {
   "cell_type": "code",
   "execution_count": 42,
   "metadata": {},
   "outputs": [],
   "source": [
    "sales_before = np.array([sales_1, np.repeat(1, sales_1.shape[0])]).T"
   ]
  },
  {
   "cell_type": "code",
   "execution_count": 43,
   "metadata": {},
   "outputs": [],
   "source": [
    "sales_after = np.array([sales_2, np.repeat(2, sales_2.shape[0])]).T"
   ]
  },
  {
   "cell_type": "code",
   "execution_count": 63,
   "metadata": {},
   "outputs": [],
   "source": [
    "# Combine them into one ndarray\n",
    "\n",
    "shoe_sales = np.concatenate((sales_before, sales_after), axis=0)"
   ]
  },
  {
   "cell_type": "code",
   "execution_count": 139,
   "metadata": {},
   "outputs": [],
   "source": [
    "shoe_sales"
   ]
  },
  {
   "cell_type": "code",
   "execution_count": 65,
   "metadata": {},
   "outputs": [],
   "source": [
    "#randomly shuffle labels. We will do this by introducing a new variable experiment_label\n",
    "experiment_label = np.random.randint(1, 3, shoe_sales.shape[0])"
   ]
  },
  {
   "cell_type": "code",
   "execution_count": 140,
   "metadata": {},
   "outputs": [],
   "source": [
    "experiment_label"
   ]
  },
  {
   "cell_type": "code",
   "execution_count": 77,
   "metadata": {
    "collapsed": true
   },
   "outputs": [],
   "source": [
    "# create the experiment data combining actual sales with the shuffled label\n",
    "\n",
    "experiment_data = np.transpose(np.array([shoe_sales[:, 0], experiment_label]))"
   ]
  },
  {
   "cell_type": "code",
   "execution_count": 141,
   "metadata": {},
   "outputs": [],
   "source": [
    "experiment_data"
   ]
  },
  {
   "cell_type": "code",
   "execution_count": 79,
   "metadata": {
    "collapsed": true
   },
   "outputs": [],
   "source": [
    "# Compute mean between the two groups now.\n",
    "# Again - take a minute to think what these two groups mean?\n",
    "\n",
    "experiment_diff_mean =  experiment_data[experiment_data[:,1]==2].mean() \\\n",
    "                        - experiment_data[experiment_data[:,1]==1].mean()"
   ]
  },
  {
   "cell_type": "code",
   "execution_count": 80,
   "metadata": {},
   "outputs": [
    {
     "data": {
      "text/plain": [
       "-0.38392857142857295"
      ]
     },
     "execution_count": 80,
     "metadata": {},
     "output_type": "execute_result"
    }
   ],
   "source": [
    "experiment_diff_mean"
   ]
  },
  {
   "cell_type": "code",
   "execution_count": 110,
   "metadata": {
    "collapsed": true
   },
   "outputs": [],
   "source": [
    "# Let's repeat this process many times. Let's write a function to do this\n",
    "\n",
    "def mean_diff_shuffle_labels(input, num_times):\n",
    "    \"\"\"\n",
    "      Function that shuffles the labels, computes the difference between the groups and return the mean difference array\n",
    "      \n",
    "      arguments:\n",
    "         input: input array that has two columns: the data in the first column and the label in the second column\n",
    "         num_times: number of times the label \n",
    "    \n",
    "      output:\n",
    "        mean_diff_shuffle_mean : This returns the mean differene of each of the shuffled sample as a numpy array\n",
    "        \n",
    "    \"\"\"\n",
    "    \n",
    "    mean_diff_shuffle_mean = np.zeros([num_times, 1])\n",
    "    \n",
    "    for i in np.arange(num_times):\n",
    "    \n",
    "        experiment_label = np.random.randint(1, 3, input.shape[0])\n",
    "        experiment_data = np.transpose(np.array([input[:, 0], experiment_label]))\n",
    "        experiment_diff_mean =  experiment_data[experiment_data[:,1]==2].mean() \\\n",
    "                        - experiment_data[experiment_data[:,1]==1].mean()\n",
    "        \n",
    "        mean_diff_shuffle_mean[i] = experiment_diff_mean\n",
    "        \n",
    "    return mean_diff_shuffle_mean\n",
    "    "
   ]
  },
  {
   "cell_type": "code",
   "execution_count": 101,
   "metadata": {},
   "outputs": [],
   "source": [
    "shoe_mean_diff_shuffle = mean_diff_shuffle_labels(shoe_sales, 5)"
   ]
  },
  {
   "cell_type": "code",
   "execution_count": 102,
   "metadata": {
    "collapsed": true
   },
   "outputs": [],
   "source": [
    "# Let's plot this"
   ]
  },
  {
   "cell_type": "code",
   "execution_count": 103,
   "metadata": {},
   "outputs": [
    {
     "data": {
      "text/plain": [
       "<matplotlib.axes._subplots.AxesSubplot at 0x7f947a161d30>"
      ]
     },
     "execution_count": 103,
     "metadata": {},
     "output_type": "execute_result"
    },
    {
     "data": {
      "image/png": "[encoded data removed]",
      "text/plain": [
       "<matplotlib.figure.Figure at 0x7f947a0ca588>"
      ]
     },
     "metadata": {},
     "output_type": "display_data"
    }
   ],
   "source": [
    "sns.distplot(shoe_mean_diff_shuffle, kde=False)"
   ]
  },
  {
   "cell_type": "code",
   "execution_count": 104,
   "metadata": {
    "collapsed": true
   },
   "outputs": [],
   "source": [
    "# find % of times difference of means is greater than observed"
   ]
  },
  {
   "cell_type": "code",
   "execution_count": 105,
   "metadata": {},
   "outputs": [
    {
     "name": "stdout",
     "output_type": "stream",
     "text": [
      "Data: Difference in mean greater than observed: []\n"
     ]
    }
   ],
   "source": [
    "#Finding % of times difference of means is greater than observed\n",
    "print(\"Data: Difference in mean greater than observed:\", \\\n",
    "        shoe_mean_diff_shuffle[shoe_mean_diff_shuffle>shoe_sales_diff])"
   ]
  },
  {
   "cell_type": "code",
   "execution_count": 106,
   "metadata": {},
   "outputs": [
    {
     "name": "stdout",
     "output_type": "stream",
     "text": [
      "Number of times diff in mean greater than observed: 0\n"
     ]
    }
   ],
   "source": [
    "print(\"Number of times diff in mean greater than observed:\", \\\n",
    "            shoe_mean_diff_shuffle[shoe_mean_diff_shuffle>shoe_sales_diff].shape[0])"
   ]
  },
  {
   "cell_type": "code",
   "execution_count": 107,
   "metadata": {},
   "outputs": [
    {
     "name": "stdout",
     "output_type": "stream",
     "text": [
      "% of times diff in mean greater than observed: 0.0\n"
     ]
    }
   ],
   "source": [
    "print(\"% of times diff in mean greater than observed:\", \\\n",
    "        shoe_mean_diff_shuffle[shoe_mean_diff_shuffle>shoe_sales_diff].shape[0]/float(shoe_mean_diff_shuffle.shape[0])*100)"
   ]
  },
  {
   "cell_type": "markdown",
   "metadata": {},
   "source": [
    "**What does the above mean?**"
   ]
  },
  {
   "cell_type": "markdown",
   "metadata": {},
   "source": [
    "**Exercise: Repeat the above for 100,000 runs and report the results**"
   ]
  },
  {
   "cell_type": "code",
   "execution_count": 95,
   "metadata": {
    "collapsed": true
   },
   "outputs": [],
   "source": [
    "shoe_mean_diff_shuffle = mean_diff_shuffle_labels(shoe_sales, 100000)"
   ]
  },
  {
   "cell_type": "code",
   "execution_count": null,
   "metadata": {
    "collapsed": true
   },
   "outputs": [],
   "source": []
  },
  {
   "cell_type": "markdown",
   "metadata": {},
   "source": [
    "**What do you infer?**"
   ]
  },
  {
   "cell_type": "markdown",
   "metadata": {},
   "source": [
    "**Effect Size**\n",
    "\n",
    "Find % increase in sales. Does it make sense?"
   ]
  },
  {
   "cell_type": "code",
   "execution_count": 109,
   "metadata": {},
   "outputs": [
    {
     "data": {
      "text/plain": [
       "4.4418468731735921"
      ]
     },
     "execution_count": 109,
     "metadata": {},
     "output_type": "execute_result"
    }
   ],
   "source": [
    "(np.mean(sales_2) - np.mean(sales_1) )/np.mean(sales_1)*100"
   ]
  },
  {
   "cell_type": "markdown",
   "metadata": {},
   "source": [
    "**Does 4.4% make sense for the business?**"
   ]
  },
  {
   "cell_type": "markdown",
   "metadata": {},
   "source": [
    "### Confidence interval"
   ]
  },
  {
   "cell_type": "markdown",
   "metadata": {},
   "source": [
    "Confidence interval is the range of values the measurement metric is going to take.\n",
    "\n",
    "An example would be: 90% of the times, the increase in average sales (before and after endorsement) would be within the bucket  3.4 and 6.7 (These numbers are illustrative. We will derive those numbers below)\n",
    "\n",
    "What is the hacker's way of doing it? We will do the following steps:\n",
    "\n",
    "- From actual sales data, we sample the data with repetition (separately for before and after) - sample size will be the same as the original\n",
    "- Find the differences between the mean of the two samples.\n",
    "- Repeat the above two steps, say 100,000 times.\n",
    "- Sort the differences. For getting 90% interval, take the 5% and 95% number. That range gives you the 90% confidence interval on the mean.\n",
    "\n",
    "**Does this process sound familiar** ?"
   ]
  },
  {
   "cell_type": "code",
   "execution_count": 119,
   "metadata": {
    "collapsed": true
   },
   "outputs": [],
   "source": [
    "# Function to generate mean difference for many bootstrap samples\n",
    "\n",
    "def mean_diff_bootstrap(before_sales, after_sales, num_times):\n",
    "    \"\"\"\n",
    "      Function that computes the difference between the groups on a bootstrap sample and return the mean difference array\n",
    "      \n",
    "      arguments:\n",
    "         before_sales: sales before the campaign\n",
    "         after_sales : sales after the campaign\n",
    "         num_times: number of times to run the bootstrap sample\n",
    "    \n",
    "      output:\n",
    "        mean_diff : This returns the mean differene of each of the bootstrap groups as a numpy array\n",
    "        \n",
    "    \"\"\"\n",
    "    \n",
    "    mean_diff = np.zeros([num_times, 1])\n",
    "    \n",
    "    for i in np.arange(num_times):\n",
    "        \n",
    "        bootstrap_before = np.random.choice(before_sales, before_sales.shape[0])\n",
    "        bootstrap_after = np.random.choice(after_sales, after_sales.shape[0])\n",
    "        bootstrap_mean_diff = np.mean(bootstrap_after) - np.mean(bootstrap_before)\n",
    "        \n",
    "        mean_diff[i] = bootstrap_mean_diff\n",
    "    \n",
    "        \n",
    "    return mean_diff\n",
    "    "
   ]
  },
  {
   "cell_type": "code",
   "execution_count": 134,
   "metadata": {},
   "outputs": [],
   "source": [
    "mean_diff_bootstrap_experiment = mean_diff_bootstrap(sales_2, sales_1, 50)"
   ]
  },
  {
   "cell_type": "code",
   "execution_count": 135,
   "metadata": {
    "collapsed": true
   },
   "outputs": [],
   "source": [
    "#Let's plot this"
   ]
  },
  {
   "cell_type": "code",
   "execution_count": 136,
   "metadata": {},
   "outputs": [
    {
     "data": {
      "text/plain": [
       "<matplotlib.axes._subplots.AxesSubplot at 0x7f947a3a54a8>"
      ]
     },
     "execution_count": 136,
     "metadata": {},
     "output_type": "execute_result"
    },
    {
     "data": {
      "image/png": "[encoded data removed]",
      "text/plain": [
       "<matplotlib.figure.Figure at 0x7f947a44c908>"
      ]
     },
     "metadata": {},
     "output_type": "display_data"
    }
   ],
   "source": [
    "sns.distplot(mean_diff_bootstrap_experiment, kde=False)"
   ]
  },
  {
   "cell_type": "code",
   "execution_count": 137,
   "metadata": {},
   "outputs": [],
   "source": [
    "mean_diff_bootstrap_experiment_sorted = np.sort(mean_diff_bootstrap_experiment, axis=0)"
   ]
  },
  {
   "cell_type": "code",
   "execution_count": 138,
   "metadata": {},
   "outputs": [
    {
     "data": {
      "text/plain": [
       "array([-5.62166667,  1.175     ])"
      ]
     },
     "execution_count": 138,
     "metadata": {},
     "output_type": "execute_result"
    }
   ],
   "source": [
    "np.percentile(mean_diff_bootstrap_experiment_sorted, [5, 95])"
   ]
  },
  {
   "cell_type": "markdown",
   "metadata": {},
   "source": [
    "**Run the above for 500k times and report the interval**"
   ]
  },
  {
   "cell_type": "code",
   "execution_count": null,
   "metadata": {
    "collapsed": true
   },
   "outputs": [],
   "source": []
  }
 ],
 "metadata": {
  "kernelspec": {
   "display_name": "Python 3",
   "language": "python",
   "name": "python3"
  },
  "language_info": {
   "codemirror_mode": {
    "name": "ipython",
    "version": 3
   },
   "file_extension": ".py",
   "mimetype": "text/x-python",
   "name": "python",
   "nbconvert_exporter": "python",
   "pygments_lexer": "ipython3",
   "version": "3.5.2"
  }
 },
 "nbformat": 4,
 "nbformat_minor": 2
}
