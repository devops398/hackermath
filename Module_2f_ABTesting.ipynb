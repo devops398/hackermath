{
 "cells": [
  {
   "cell_type": "markdown",
   "metadata": {},
   "source": [
    "# A/B Testing"
   ]
  },
  {
   "cell_type": "markdown",
   "metadata": {},
   "source": [
    "A shoe company sells two models: UA101 and UA102. They wanted to improve their sales and so, ran an aggressive campaign.\n",
    "\n",
    "The sales data before the campaign, during the campaign and after the campaign are provided.\n",
    "\n",
    "Can you help them figure out if the campaign was successful or not? What additional insights will you provide them ?"
   ]
  },
  {
   "cell_type": "code",
   "execution_count": 1,
   "metadata": {
    "collapsed": true
   },
   "outputs": [],
   "source": [
    "#import the necessary datasets\n",
    "import pandas as pd\n",
    "import numpy as np"
   ]
  },
  {
   "cell_type": "code",
   "execution_count": 3,
   "metadata": {
    "collapsed": false
   },
   "outputs": [
    {
     "data": {
      "text/plain": [
       "'0.19.1'"
      ]
     },
     "execution_count": 3,
     "metadata": {},
     "output_type": "execute_result"
    }
   ],
   "source": [
    "pd.__version__"
   ]
  },
  {
   "cell_type": "code",
   "execution_count": 4,
   "metadata": {
    "collapsed": false
   },
   "outputs": [
    {
     "name": "stdout",
     "output_type": "stream",
     "text": [
      "Collecting xlrd\n",
      "  Downloading xlrd-1.0.0-py3-none-any.whl (143kB)\n",
      "\u001b[K    100% |################################| 153kB 363kB/s \n",
      "\u001b[?25hInstalling collected packages: xlrd\n",
      "Successfully installed xlrd-1.0.0\n"
     ]
    }
   ],
   "source": [
    "!pip install xlrd"
   ]
  },
  {
   "cell_type": "code",
   "execution_count": 5,
   "metadata": {
    "collapsed": false
   },
   "outputs": [],
   "source": [
    "#Read the dataset\n",
    "shoes_before = pd.read_excel(\"data/shoe_sales_before.xlsx\")\n",
    "shoes_during = pd.read_excel(\"data/shoe_sales_during.xlsx\")\n",
    "shoes_after = pd.read_excel(\"data/shoe_sales_after.xlsx\")"
   ]
  },
  {
   "cell_type": "code",
   "execution_count": 6,
   "metadata": {
    "collapsed": false
   },
   "outputs": [
    {
     "data": {
      "text/html": [
       "<div>\n",
       "<table border=\"1\" class=\"dataframe\">\n",
       "  <thead>\n",
       "    <tr style=\"text-align: right;\">\n",
       "      <th></th>\n",
       "      <th>UA101</th>\n",
       "      <th>UA102</th>\n",
       "    </tr>\n",
       "  </thead>\n",
       "  <tbody>\n",
       "    <tr>\n",
       "      <th>0</th>\n",
       "      <td>12</td>\n",
       "      <td>6</td>\n",
       "    </tr>\n",
       "    <tr>\n",
       "      <th>1</th>\n",
       "      <td>4</td>\n",
       "      <td>7</td>\n",
       "    </tr>\n",
       "    <tr>\n",
       "      <th>2</th>\n",
       "      <td>11</td>\n",
       "      <td>16</td>\n",
       "    </tr>\n",
       "    <tr>\n",
       "      <th>3</th>\n",
       "      <td>6</td>\n",
       "      <td>12</td>\n",
       "    </tr>\n",
       "    <tr>\n",
       "      <th>4</th>\n",
       "      <td>6</td>\n",
       "      <td>18</td>\n",
       "    </tr>\n",
       "  </tbody>\n",
       "</table>\n",
       "</div>"
      ],
      "text/plain": [
       "   UA101  UA102\n",
       "0     12      6\n",
       "1      4      7\n",
       "2     11     16\n",
       "3      6     12\n",
       "4      6     18"
      ]
     },
     "execution_count": 6,
     "metadata": {},
     "output_type": "execute_result"
    }
   ],
   "source": [
    "shoes_before.head()"
   ]
  },
  {
   "cell_type": "code",
   "execution_count": 7,
   "metadata": {
    "collapsed": false
   },
   "outputs": [
    {
     "name": "stdout",
     "output_type": "stream",
     "text": [
      "Before Campaign:\n",
      "UA101     7.933333\n",
      "UA102    11.966667\n",
      "dtype: float64\n",
      "\n",
      "During Campaign:\n",
      "UA101    15.683333\n",
      "UA102    21.100000\n",
      "dtype: float64\n",
      "\n",
      "After Campaign:\n",
      "UA101    10.683333\n",
      "UA102    14.750000\n",
      "dtype: float64\n"
     ]
    }
   ],
   "source": [
    "#What was the mean sales \n",
    "#before, during and after for the two shoe models\n",
    "#Hint: use df.mean function\n",
    "print(\"Before Campaign:\")\n",
    "print(shoes_before.mean())\n",
    "print()\n",
    "print(\"During Campaign:\")\n",
    "print(shoes_during.mean())\n",
    "print()\n",
    "print(\"After Campaign:\")\n",
    "print(shoes_after.mean())"
   ]
  },
  {
   "cell_type": "markdown",
   "metadata": {},
   "source": [
    "#### Variance\n",
    "\n",
    "> Once two statistician of height 4 feet and 5 feet have to cross a river of AVERAGE depth 3 feet. Meanwhile, a third person comes and said, \"what are you waiting for? You can easily cross the river\"\n",
    "\n",
    "It's the average distance of the data values from the *mean*\n",
    "\n",
    "<img style=\"float: left;\" src=\"img/variance.png\" height=\"320\" width=\"320\">\n",
    "\n",
    "\n",
    "<br>\n",
    "<br>\n",
    "\n",
    "#### Standard Deviation\n",
    "\n",
    "It is the square root of variance. This will have the same units as the data and mean. "
   ]
  },
  {
   "cell_type": "code",
   "execution_count": 9,
   "metadata": {
    "collapsed": false
   },
   "outputs": [
    {
     "data": {
      "text/html": [
       "<div>\n",
       "<table border=\"1\" class=\"dataframe\">\n",
       "  <thead>\n",
       "    <tr style=\"text-align: right;\">\n",
       "      <th></th>\n",
       "      <th>UA101</th>\n",
       "      <th>UA102</th>\n",
       "    </tr>\n",
       "  </thead>\n",
       "  <tbody>\n",
       "    <tr>\n",
       "      <th>0</th>\n",
       "      <td>12</td>\n",
       "      <td>6</td>\n",
       "    </tr>\n",
       "    <tr>\n",
       "      <th>1</th>\n",
       "      <td>4</td>\n",
       "      <td>7</td>\n",
       "    </tr>\n",
       "    <tr>\n",
       "      <th>2</th>\n",
       "      <td>11</td>\n",
       "      <td>16</td>\n",
       "    </tr>\n",
       "    <tr>\n",
       "      <th>3</th>\n",
       "      <td>6</td>\n",
       "      <td>12</td>\n",
       "    </tr>\n",
       "    <tr>\n",
       "      <th>4</th>\n",
       "      <td>6</td>\n",
       "      <td>18</td>\n",
       "    </tr>\n",
       "  </tbody>\n",
       "</table>\n",
       "</div>"
      ],
      "text/plain": [
       "   UA101  UA102\n",
       "0     12      6\n",
       "1      4      7\n",
       "2     11     16\n",
       "3      6     12\n",
       "4      6     18"
      ]
     },
     "execution_count": 9,
     "metadata": {},
     "output_type": "execute_result"
    }
   ],
   "source": [
    "shoes_before.head()"
   ]
  },
  {
   "cell_type": "code",
   "execution_count": 13,
   "metadata": {
    "collapsed": false
   },
   "outputs": [],
   "source": [
    "import matplotlib.pyplot as plt\n",
    "%matplotlib inline"
   ]
  },
  {
   "cell_type": "code",
   "execution_count": 8,
   "metadata": {
    "collapsed": false
   },
   "outputs": [
    {
     "name": "stdout",
     "output_type": "stream",
     "text": [
      "Before Campaign:\n",
      "UA101    2.455479\n",
      "UA102    3.914193\n",
      "dtype: float64\n",
      "\n",
      "During Campaign:\n",
      "UA101    5.133775\n",
      "UA102    7.500734\n",
      "dtype: float64\n",
      "\n",
      "After Campaign:\n",
      "UA101    2.619947\n",
      "UA102    6.110910\n",
      "dtype: float64\n"
     ]
    }
   ],
   "source": [
    "#Find the standard deviation of the sales\n",
    "\n",
    "print(\"Before Campaign:\")\n",
    "print(shoes_before.std())\n",
    "print()\n",
    "print(\"During Campaign:\")\n",
    "print(shoes_during.std())\n",
    "print()\n",
    "print(\"After Campaign:\")\n",
    "print(shoes_after.std())"
   ]
  },
  {
   "cell_type": "markdown",
   "metadata": {},
   "source": [
    "#### Co-variance \n",
    "\n",
    "covariance as a measure of the (average) co-variation between two variables, say x and y. Covariance describes both how far the variables are spread out, and the nature of their relationship, Covariance is a measure of how much two variables change together. Compare this to Variance, which is just the range over which one measure (or variable) varies.\n",
    "\n",
    "<img style=\"float: left;\" src=\"img/covariance.png\" height=\"270\" width=\"270\">\n",
    "\n",
    "<br>\n",
    "<br>\n",
    "<br>\n",
    "<br>\n",
    "\n"
   ]
  },
  {
   "cell_type": "code",
   "execution_count": 14,
   "metadata": {
    "collapsed": false
   },
   "outputs": [
    {
     "name": "stdout",
     "output_type": "stream",
     "text": [
      "Before Campaign:\n",
      "          UA101      UA102\n",
      "UA101  6.029379  -0.764972\n",
      "UA102 -0.764972  15.320904\n",
      "\n",
      "During Campaign:\n",
      "           UA101      UA102\n",
      "UA101  26.355650   6.642373\n",
      "UA102   6.642373  56.261017\n",
      "\n",
      "After Campaign:\n",
      "          UA101      UA102\n",
      "UA101  6.864124   3.495763\n",
      "UA102  3.495763  37.343220\n"
     ]
    }
   ],
   "source": [
    "#Find the covariance of the sales\n",
    "#Use the cov function\n",
    "\n",
    "print(\"Before Campaign:\")\n",
    "print(shoes_before.cov())\n",
    "print()\n",
    "print(\"During Campaign:\")\n",
    "print(shoes_during.cov())\n",
    "print()\n",
    "print(\"After Campaign:\")\n",
    "print(shoes_after.cov())"
   ]
  },
  {
   "cell_type": "markdown",
   "metadata": {},
   "source": [
    "### Correlation\n",
    "\n",
    "Extent to which two or more variables fluctuate together. A positive correlation indicates the extent to which those variables increase or decrease in parallel; a negative correlation indicates the extent to which one variable increases as the other decreases.\n",
    "\n",
    "<img style=\"float: left;\" src=\"img/correlation.gif\" height=\"270\" width=\"270\">\n",
    "\n",
    "<br>\n",
    "<br>\n",
    "<br>\n",
    "\n"
   ]
  },
  {
   "cell_type": "code",
   "execution_count": 15,
   "metadata": {
    "collapsed": true
   },
   "outputs": [],
   "source": [
    "import seaborn as sns"
   ]
  },
  {
   "cell_type": "code",
   "execution_count": 17,
   "metadata": {
    "collapsed": false
   },
   "outputs": [
    {
     "data": {
      "text/plain": [
       "<seaborn.axisgrid.JointGrid at 0x11121ee80>"
      ]
     },
     "execution_count": 17,
     "metadata": {},
     "output_type": "execute_result"
    },
    {
     "data": {
      "image/png": "[encoded data removed]",
      "text/plain": [
       "<matplotlib.figure.Figure at 0x11121ee48>"
      ]
     },
     "metadata": {},
     "output_type": "display_data"
    }
   ],
   "source": [
    "sns.jointplot(x= \"UA101\", y =\"UA102\", data=shoes_before)"
   ]
  },
  {
   "cell_type": "code",
   "execution_count": 19,
   "metadata": {
    "collapsed": false
   },
   "outputs": [
    {
     "data": {
      "text/plain": [
       "<seaborn.axisgrid.JointGrid at 0x1115134a8>"
      ]
     },
     "execution_count": 19,
     "metadata": {},
     "output_type": "execute_result"
    },
    {
     "data": {
      "image/png": "[encoded data removed]",
      "text/plain": [
       "<matplotlib.figure.Figure at 0x111513668>"
      ]
     },
     "metadata": {},
     "output_type": "display_data"
    }
   ],
   "source": [
    "sns.jointplot(x= \"UA101\", y =\"UA102\", data=shoes_during)"
   ]
  },
  {
   "cell_type": "code",
   "execution_count": 18,
   "metadata": {
    "collapsed": false
   },
   "outputs": [
    {
     "name": "stdout",
     "output_type": "stream",
     "text": [
      "Before Campaign:\n",
      "          UA101     UA102\n",
      "UA101  1.000000 -0.079592\n",
      "UA102 -0.079592  1.000000\n",
      "\n",
      "During Campaign:\n",
      "          UA101     UA102\n",
      "UA101  1.000000  0.172497\n",
      "UA102  0.172497  1.000000\n",
      "\n",
      "After Campaign:\n",
      "          UA101     UA102\n",
      "UA101  1.000000  0.218345\n",
      "UA102  0.218345  1.000000\n"
     ]
    }
   ],
   "source": [
    "#Find correlation between sales\n",
    "print(\"Before Campaign:\")\n",
    "print(shoes_before.corr())\n",
    "print()\n",
    "print(\"During Campaign:\")\n",
    "print(shoes_during.corr())\n",
    "print()\n",
    "print(\"After Campaign:\")\n",
    "print(shoes_after.corr())"
   ]
  },
  {
   "cell_type": "markdown",
   "metadata": {},
   "source": [
    "# Correlation != Causation\n",
    "\n",
    "correlation between two variables does not necessarily imply that one causes the other.\n",
    "\n",
    "\n",
    "<img style=\"float: left;\" src=\"img/correlation_not_causation.gif\" height=\"570\" width=\"570\">"
   ]
  },
  {
   "cell_type": "code",
   "execution_count": 20,
   "metadata": {
    "collapsed": true
   },
   "outputs": [],
   "source": [
    "#Let's do some analysis on UA101 now"
   ]
  },
  {
   "cell_type": "code",
   "execution_count": 21,
   "metadata": {
    "collapsed": false
   },
   "outputs": [
    {
     "data": {
      "text/plain": [
       "2.75"
      ]
     },
     "execution_count": 21,
     "metadata": {},
     "output_type": "execute_result"
    }
   ],
   "source": [
    "#Find difference between mean sales before and after the campaign\n",
    "\n",
    "np.mean(shoes_after.UA101) - np.mean(shoes_before.UA101)"
   ]
  },
  {
   "cell_type": "markdown",
   "metadata": {},
   "source": [
    "On average, the sales after campaign is more than the sales before campaign. But is the difference legit? Could it be due to chance?\n",
    "\n",
    "**Classical Method** : *t-test*\n",
    "\n",
    "**Hacker's Method** : provided in notebook 2c\n"
   ]
  },
  {
   "cell_type": "markdown",
   "metadata": {},
   "source": [
    "# Effect Size\n",
    "\n",
    "> **Because you can't argue with all the fools in the world. It's easier to let them have their way, then trick them when they're not paying attention**  - Christopher Paolini"
   ]
  },
  {
   "cell_type": "code",
   "execution_count": 22,
   "metadata": {
    "collapsed": false
   },
   "outputs": [
    {
     "data": {
      "text/plain": [
       "25.741029641185648"
      ]
     },
     "execution_count": 22,
     "metadata": {},
     "output_type": "execute_result"
    }
   ],
   "source": [
    "#Find %increase in mean sales\n",
    "(np.mean(shoes_after.UA101) - np.mean(shoes_before.UA101))/np.mean(shoes_after.UA101) * 100"
   ]
  },
  {
   "cell_type": "markdown",
   "metadata": {},
   "source": [
    "Would business feel comfortable spending millions of dollars if the increase is going to be 25%. \n",
    "\n",
    "Does it work for the company? \n",
    "\n",
    "Maybe yes - if margins are good and this increase is considered good. But if the returns from the campaign does not let the company break even, it makes no sense to take that path."
   ]
  },
  {
   "cell_type": "markdown",
   "metadata": {},
   "source": [
    "> Someone tells you the result is statistically significant. The first question you should ask?\n",
    "\n",
    "# How large is the effect?\n",
    "\n",
    "To answer such a question, we will make use of the concept **confidence interval**\n",
    "\n",
    "In plain english, *confidence interval* is the range of values the measurement metric is going to take. \n",
    "\n",
    "An example would be: 90% of the times, the increase in average sales (before and after campaign) would be within the bucket `3.4 and 6.7` (These numbers are illustrative. We will derive those numbers below)\n",
    "\n",
    "\n",
    "Hacker's way to do this: Bootstrapping \n",
    "\n",
    "(We will use the library here though)"
   ]
  },
  {
   "cell_type": "markdown",
   "metadata": {},
   "source": [
    "### Where do we go from here? \n",
    "\n",
    "First of all there are two points to be made.\n",
    "\n",
    "1. Whey do we need signficance testing if confidence intervals can provide us more information?\n",
    "2. How does it relate to the traditional statistical procedure of finding confidence intervals\n",
    "\n",
    "For the first one:\n",
    "\n",
    "What if sales in the first month after campaign was 80 and the month before campaign was 40. The difference is 40. And confidence interval,as explained above, using replacements, would always generate 40. But if we do the significance testing, as detailed above - where the labels are shuffled, the sales are equally likely to occur in both the groups. And so, significance testing would answer that there was no difference. But don't we all know that the data is **too small** to make meaningful inferences?\n",
    "\n",
    "For the second one:\n",
    "\n",
    "Traditional statistics derivation assumes normal distribution. But what if the underlying distribution isn't normal? Also, people relate to resampling much better :-) "
   ]
  },
  {
   "cell_type": "markdown",
   "metadata": {},
   "source": [
    "### Standard Error\n",
    "\n",
    "It is a measure of how far the estimate to be off, on average. More technically, it is the standard deviation of the sampling distribution of a statistic(mostly the mean). Please do not confuse it with *standard deviation*. Standard deviation is a measure of the variability of the observed quantity. Standard error, on the other hand, describes variability of the estimate. \n",
    "\n"
   ]
  },
  {
   "cell_type": "code",
   "execution_count": 23,
   "metadata": {
    "collapsed": true
   },
   "outputs": [],
   "source": [
    "from scipy import stats"
   ]
  },
  {
   "cell_type": "code",
   "execution_count": 24,
   "metadata": {
    "collapsed": false
   },
   "outputs": [
    {
     "data": {
      "text/plain": [
       "0.31700101290777827"
      ]
     },
     "execution_count": 24,
     "metadata": {},
     "output_type": "execute_result"
    }
   ],
   "source": [
    "#Standard error for mean sales before campaign\n",
    "stats.sem(shoes_before.UA101)"
   ]
  },
  {
   "cell_type": "markdown",
   "metadata": {},
   "source": [
    "# Hypothesis Testing\n",
    "\n",
    "(We are covering, what is referred to as, frequentist method of Hypothesis testing)\n",
    "\n",
    "We would like to know if the effects we see in the sample(observed data) are likely to occur in the population. \n",
    "\n",
    "The way classical hypothesis testing works is by conducting a statistical test to answer the following question:\n",
    "> Given the sample and an effect, what is the probability of seeing that effect just by chance?\n",
    "\n",
    "Here are the steps on how we would do this\n",
    "\n",
    "1. Define null hypothesis\n",
    "2. Compute test statistic\n",
    "3. Compute p-value\n",
    "4. Interpret the result\n",
    "\n",
    "If p-value is very low(most often than now, below 0.05), the effect is considered statistically significant. That means that effect is unlikely to have occured by chance. The inference? The effect is likely to be seen in the population too. \n",
    "\n",
    "This process is very similar to the *proof by contradiction* paradigm. We first assume that the effect is false. That's the null hypothesis. Next step is to compute the probability of obtaining that effect (the p-value). If p-value is very low(<0.05 as a rule of thumb), we reject the null hypothesis. "
   ]
  },
  {
   "cell_type": "code",
   "execution_count": 25,
   "metadata": {
    "collapsed": true
   },
   "outputs": [],
   "source": [
    "import numpy as np\n",
    "import pandas as pd\n",
    "from scipy import stats\n",
    "import matplotlib as mpl\n",
    "%matplotlib inline"
   ]
  },
  {
   "cell_type": "code",
   "execution_count": 26,
   "metadata": {
    "collapsed": true
   },
   "outputs": [],
   "source": [
    "import seaborn as sns\n",
    "sns.set(color_codes=True)"
   ]
  },
  {
   "cell_type": "code",
   "execution_count": 27,
   "metadata": {
    "collapsed": false
   },
   "outputs": [
    {
     "data": {
      "text/plain": [
       "7.9333333333333336"
      ]
     },
     "execution_count": 27,
     "metadata": {},
     "output_type": "execute_result"
    }
   ],
   "source": [
    "#Mean of sales before campaign\n",
    "shoes_before.UA101.mean()"
   ]
  },
  {
   "cell_type": "code",
   "execution_count": 28,
   "metadata": {
    "collapsed": false
   },
   "outputs": [
    {
     "data": {
      "text/plain": [
       "(7.3120227649713714, 8.5546439016952966)"
      ]
     },
     "execution_count": 28,
     "metadata": {},
     "output_type": "execute_result"
    }
   ],
   "source": [
    "#Confidence interval on the mean of sales before campaign\n",
    "stats.norm.interval(0.95, loc=shoes_before.UA101.mean(), \n",
    "scale = shoes_before.UA101.std()/np.sqrt(len(shoes_before)))"
   ]
  },
  {
   "cell_type": "code",
   "execution_count": 37,
   "metadata": {
    "collapsed": true
   },
   "outputs": [],
   "source": [
    "#Find 80% Confidence interval"
   ]
  },
  {
   "cell_type": "code",
   "execution_count": null,
   "metadata": {
    "collapsed": true
   },
   "outputs": [],
   "source": []
  },
  {
   "cell_type": "code",
   "execution_count": 42,
   "metadata": {
    "collapsed": false
   },
   "outputs": [
    {
     "name": "stdout",
     "output_type": "stream",
     "text": [
      "10.683333333333334\n"
     ]
    },
    {
     "data": {
      "text/plain": [
       "(10.02040735940283, 11.346259307263837)"
      ]
     },
     "execution_count": 42,
     "metadata": {},
     "output_type": "execute_result"
    }
   ],
   "source": [
    "#Find mean and 95% CI on mean of sales after campaign\n",
    "print(shoes_after.UA101.mean())\n",
    "stats.norm.interval(0.95, loc=shoes_after.UA101.mean(), \n",
    "scale = shoes_after.UA101.std()/np.sqrt(len(shoes_after)))"
   ]
  },
  {
   "cell_type": "code",
   "execution_count": 38,
   "metadata": {
    "collapsed": true
   },
   "outputs": [],
   "source": [
    "#What does confidence interval mean? "
   ]
  },
  {
   "cell_type": "code",
   "execution_count": null,
   "metadata": {
    "collapsed": true
   },
   "outputs": [],
   "source": []
  },
  {
   "cell_type": "code",
   "execution_count": 29,
   "metadata": {
    "collapsed": true
   },
   "outputs": [],
   "source": [
    "#Effect size"
   ]
  },
  {
   "cell_type": "code",
   "execution_count": 40,
   "metadata": {
    "collapsed": false
   },
   "outputs": [
    {
     "name": "stdout",
     "output_type": "stream",
     "text": [
      "Effect size: 2.75\n"
     ]
    }
   ],
   "source": [
    "print(\"Effect size:\", shoes_after.UA101.mean() \n",
    "      - shoes_before.UA101.mean() )"
   ]
  },
  {
   "cell_type": "markdown",
   "metadata": {},
   "source": [
    "**Null Hypothesis**: Mean sales aren't significantly different\n",
    "\n",
    "Perform **t-test** and determine the p-value. "
   ]
  },
  {
   "cell_type": "code",
   "execution_count": 29,
   "metadata": {
    "collapsed": false
   },
   "outputs": [
    {
     "data": {
      "text/plain": [
       "Ttest_indResult(statistic=-5.9322966356692888, pvalue=3.0560627719645606e-08)"
      ]
     },
     "execution_count": 29,
     "metadata": {},
     "output_type": "execute_result"
    }
   ],
   "source": [
    "stats.ttest_ind(shoes_before.UA101, \n",
    "shoes_after.UA101, equal_var=True)"
   ]
  },
  {
   "cell_type": "markdown",
   "metadata": {},
   "source": [
    "p-value is the probability that the effective size was by chance. And here, p-value is almost 0.\n",
    "\n",
    "*Conclusion*: The sales difference is significant. "
   ]
  },
  {
   "cell_type": "markdown",
   "metadata": {},
   "source": [
    "### Assumption of t-test\n",
    "\n",
    "One assumption is that the data used came from a normal distribution. \n",
    "<br>\n",
    "There's a [Shapiro-Wilk test](https://en.wikipedia.org/wiki/Shapiro-Wilk) to test for normality. If p-value is less than 0.05, then there's a low chance that the distribution is normal."
   ]
  },
  {
   "cell_type": "code",
   "execution_count": 30,
   "metadata": {
    "collapsed": false
   },
   "outputs": [
    {
     "data": {
      "text/plain": [
       "(0.9386103749275208, 0.00469556450843811)"
      ]
     },
     "execution_count": 30,
     "metadata": {},
     "output_type": "execute_result"
    }
   ],
   "source": [
    "stats.shapiro(shoes_before.UA101)"
   ]
  },
  {
   "cell_type": "code",
   "execution_count": 51,
   "metadata": {
    "collapsed": true
   },
   "outputs": [],
   "source": [
    "?stats.shapiro"
   ]
  },
  {
   "cell_type": "markdown",
   "metadata": {},
   "source": [
    "<h2> Something to think about: Which of these give smaller p-values ? </h2>\n",
    "   \n",
    "   * Smaller effect size\n",
    "   * Smaller standard error\n",
    "   * Smaller sample size\n",
    "   * Higher variance\n",
    "   \n",
    "   **Answer:** (Homework :-) )"
   ]
  },
  {
   "cell_type": "markdown",
   "metadata": {},
   "source": [
    "### Class-work\n",
    "\n",
    "**Question 1:**\n",
    "Do the same analysis on UA102 and report your insights.\n",
    "\n",
    "**Question 2:**\n",
    "How different were the sales between the two models during campaign?"
   ]
  },
  {
   "cell_type": "code",
   "execution_count": null,
   "metadata": {
    "collapsed": true
   },
   "outputs": [],
   "source": []
  }
 ],
 "metadata": {
  "kernelspec": {
   "display_name": "Python [conda root]",
   "language": "python",
   "name": "conda-root-py"
  },
  "language_info": {
   "codemirror_mode": {
    "name": "ipython",
    "version": 3
   },
   "file_extension": ".py",
   "mimetype": "text/x-python",
   "name": "python",
   "nbconvert_exporter": "python",
   "pygments_lexer": "ipython3",
   "version": "3.5.2"
  }
 },
 "nbformat": 4,
 "nbformat_minor": 1
}
