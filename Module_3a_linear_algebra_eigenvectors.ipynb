{
 "cells": [
  {
   "cell_type": "markdown",
   "metadata": {},
   "source": [
    "# Intermediate Linear Algebra  - Eigenvalues & Eigenvectors\n",
    "\n",
    "### Key Equation: $Ax = \\lambda b ~~ \\text{for} ~~ n \\times n $"
   ]
  },
  {
   "cell_type": "markdown",
   "metadata": {},
   "source": [
    "## Transformations\n",
    "\n",
    "So what really happens when we multiply the $A$ matrix with a vector $x$\n",
    "\n",
    "Lets say we have a vector - $x$\n",
    "\n",
    "$$ x = \\begin{bmatrix} -1 \\\\ 1 \\end{bmatrix} $$\n",
    "\n",
    "What happens when we multiply by a matrix - $A$\n",
    "\n",
    "$$ A = \\begin{bmatrix} 6 & 2 \\\\ 2 & 6 \\end{bmatrix} $$\n",
    "\n",
    "$$ Ax = \\begin{bmatrix} 6 & 2 \\\\ 2 & 6 \\end{bmatrix} \\begin{bmatrix} -1 \\\\ 1 \\end{bmatrix} = \\begin{bmatrix} -4  \\\\ 4 \\end{bmatrix} $$\n",
    "\n",
    "$$ Ax = 4Ix $$\n",
    "\n",
    "$$ Ax = 4x $$\n",
    "\n",
    "So this particular matrix has just scaled our original vector. It is a scalar transformation. Other matrices can do reflection, rotation and any arbitary transformation in the same 2d space for n = 2.\n",
    "\n",
    "Lets see what has happened through code."
   ]
  },
  {
   "cell_type": "code",
   "execution_count": 3,
   "metadata": {
    "collapsed": true
   },
   "outputs": [],
   "source": [
    "import numpy as np"
   ]
  },
  {
   "cell_type": "code",
   "execution_count": 4,
   "metadata": {
    "collapsed": true
   },
   "outputs": [],
   "source": [
    "import matplotlib.pyplot as plt\n",
    "%matplotlib inline\n",
    "plt.style.use('fivethirtyeight')\n",
    "plt.rcParams['figure.figsize'] = (10, 6)"
   ]
  },
  {
   "cell_type": "code",
   "execution_count": 5,
   "metadata": {
    "collapsed": true
   },
   "outputs": [],
   "source": [
    "def vector_plot (vector):\n",
    "    X,Y,U,V = zip(*vector)\n",
    "    C = [1,1,2,2]\n",
    "    plt.figure()\n",
    "    ax = plt.gca()\n",
    "    ax.quiver(X,Y,U,V,C, angles='xy',scale_units='xy',scale=1)\n",
    "    ax.set_xlim([-6,6])\n",
    "    ax.set_ylim([-6,6])\n",
    "    plt.axhline(0, color='grey', linewidth=1)\n",
    "    plt.axvline(0, color='grey', linewidth=1)\n",
    "    plt.axes().set_aspect('equal')\n",
    "    plt.draw()"
   ]
  },
  {
   "cell_type": "code",
   "execution_count": 6,
   "metadata": {
    "collapsed": true
   },
   "outputs": [],
   "source": [
    "A = np.array([[ 6 , 2],\n",
    "               [ 2 , 6]])"
   ]
  },
  {
   "cell_type": "code",
   "execution_count": 7,
   "metadata": {},
   "outputs": [],
   "source": [
    "x = np.array([[-1],\n",
    "             [1]])"
   ]
  },
  {
   "cell_type": "code",
   "execution_count": 8,
   "metadata": {},
   "outputs": [],
   "source": [
    "v = A.dot(x)"
   ]
  },
  {
   "cell_type": "code",
   "execution_count": 9,
   "metadata": {},
   "outputs": [],
   "source": [
    "# All the vectors start at 0, 0 \n",
    "vAX = np.r_[[0,0],A[:,0]]\n",
    "vAY = np.r_[[0,0],A[:,1]]\n",
    "vx = np.r_[[0,0],x[:,0]]\n",
    "vv = np.r_[[0,0],v[:,0]]"
   ]
  },
  {
   "cell_type": "code",
   "execution_count": 10,
   "metadata": {},
   "outputs": [
    {
     "data": {
      "image/png": "[encoded data removed]",
      "text/plain": [
       "<matplotlib.figure.Figure at 0x111a9c828>"
      ]
     },
     "metadata": {},
     "output_type": "display_data"
    }
   ],
   "source": [
    "vector_plot([vAX, vAY, vx, vv])"
   ]
  },
  {
   "cell_type": "markdown",
   "metadata": {},
   "source": [
    "##  Solving Equation $Ax=\\lambda x$\n",
    "\n",
    "\n",
    "\n",
    "### Special Case: $Ax = 0$ \n",
    "\n",
    "So far we have been solving the equation $Ax = b$. Let us just look at special case when $b=0$.\n",
    "\n",
    "$$ Ax =0 $$\n",
    "\n",
    "If $A^{-1}$ exists (the matrix is non-singular and invertable), then the solution is trival\n",
    "\n",
    "$$ A^{-1}Ax =0 $$\n",
    "$$ x = 0$$\n",
    "\n",
    "If $A^{-1}$ does not exist, then there may be infinitely many other solutions $x$. And since $A^{-1}$ is a singular matrix then\n",
    "\n",
    "$$||A|| = 0 $$\n",
    "\n",
    "### General Case\n",
    "\n",
    "\n",
    "The second part of linear algebra is solving the equation, for a given $A$ - \n",
    "\n",
    "$$ Ax = \\lambda x$$\n",
    "\n",
    "Note that both $x$ and $\\lambda$ are unknown in this equation. For all solutions of them:\n",
    "\n",
    "$$ \\text{eigenvalues} = \\lambda $$\n",
    "$$ \\text{eigenvectors} = x $$\n"
   ]
  },
  {
   "cell_type": "markdown",
   "metadata": {},
   "source": [
    "## Calculating Eigenvalues\n",
    "\n",
    "So let us first solve this for $\\lambda$ :\n",
    "\n",
    "$$ Ax = \\lambda Ix $$\n",
    "\n",
    "$$ (A-\\lambda I)x = 0 $$\n",
    "\n",
    "So for non-trivial solution of $x$, $A$ should be singular:\n",
    "\n",
    "$$ ||A - \\lambda I|| = 0 $$"
   ]
  },
  {
   "cell_type": "markdown",
   "metadata": {},
   "source": [
    "## For 2 x 2 Matrix\n",
    "\n",
    "Let us use the sample $A$ vector:\n",
    "\n",
    "$$ A =  \\begin{bmatrix}3 & 1\\\\ 1 & 3\\end{bmatrix} $$\n",
    "\n",
    "So our equation becomes: \n",
    "\n",
    "$$ \\begin{bmatrix}3 & 1\\\\ 1 & 3\\end{bmatrix} \\begin{bmatrix}x \\\\ y\\end{bmatrix} = \\begin{bmatrix}\\lambda & 0\\\\ 0 & \\lambda \\end{bmatrix} \\begin{bmatrix}x \\\\ y\\end{bmatrix} $$\n",
    "\n",
    "$$ \\begin{bmatrix}3 - \\lambda & 1\\\\ 1 & 3 - \\lambda \\end{bmatrix} \\begin{bmatrix}x \\\\ y\\end{bmatrix} = 0 $$\n",
    "\n",
    "So for a singular matrix: \n",
    "\n",
    "$$ \\begin{Vmatrix}3 - \\lambda & 1\\\\ 1 & 3 - \\lambda \\end{Vmatrix} = 0 $$\n",
    "\n",
    "\n",
    "$$ (3 - \\lambda)^2 - 1  = 0 $$\n",
    "\n",
    "$$ \\lambda^2 - 6\\lambda + 8 = 0 $$\n",
    "\n",
    "$$ (\\lambda - 4)(\\lambda - 2) = 0 $$\n",
    "\n",
    "$$ \\lambda_1 = 2, \\lambda_2 = 4 $$\n",
    "\n",
    "$$||A|| = \\lambda_{1} \\lambda_{2} $$\n"
   ]
  },
  {
   "cell_type": "markdown",
   "metadata": {
    "collapsed": true
   },
   "source": [
    "## Calculating Eigenvectors\n",
    "\n",
    "For $\\lambda = 2$,\n",
    "\n",
    "$$ \\begin{bmatrix}3 - \\lambda & 1\\\\ 1 & 3 - \\lambda \\end{bmatrix} \\begin{bmatrix}x \\\\ y\\end{bmatrix} = \\begin{bmatrix}1 & 1\\\\ 1 & 1 \\end{bmatrix} \\begin{bmatrix}x \\\\ y\\end{bmatrix} = 0 $$\n",
    "\n",
    "So one simple solution is:\n",
    "\n",
    "$$ \\begin{bmatrix}x \\\\ y\\end{bmatrix} = \\begin{bmatrix}-1 \\\\ 1\\end{bmatrix} $$\n",
    "\n",
    "For $\\lambda = 4$,\n",
    "\n",
    "$$ \\begin{bmatrix}3 - \\lambda & 1\\\\ 1 & 3 - \\lambda \\end{bmatrix} \\begin{bmatrix}x \\\\ y\\end{bmatrix} = \\begin{bmatrix}-1 & 1\\\\ 1 & -1 \\end{bmatrix} \\begin{bmatrix}x \\\\ y\\end{bmatrix} = 0 $$\n",
    "\n",
    "So one simple solution is:\n",
    "\n",
    "$$ \\begin{bmatrix}x \\\\ y\\end{bmatrix} = \\begin{bmatrix}1 \\\\ 1\\end{bmatrix} $$\n",
    "\n",
    "\n",
    "The eigenvectors are orthonormal to each other in this case.\n"
   ]
  },
  {
   "cell_type": "markdown",
   "metadata": {},
   "source": [
    "## Vector Representation (2x2)\n",
    "\n",
    "A vector representation for this is now:\n",
    "\n",
    "$$ \\begin{bmatrix}3 \\\\ 1\\end{bmatrix} x + \\begin{bmatrix}1 \\\\ 3\\end{bmatrix} y = \\begin{bmatrix} \\lambda \\\\  0 \\end{bmatrix} x + \\begin{bmatrix} 0 \\\\ \\lambda \\end{bmatrix} y $$\n",
    "\n",
    "Now we need to draw these vectors and see the result"
   ]
  },
  {
   "cell_type": "code",
   "execution_count": 11,
   "metadata": {},
   "outputs": [],
   "source": [
    "A = np.array([[ 3 , 1],\n",
    "               [ 1 , 3]])"
   ]
  },
  {
   "cell_type": "code",
   "execution_count": 12,
   "metadata": {},
   "outputs": [],
   "source": [
    "eigen_val, eigen_vec = np.linalg.eig(A)"
   ]
  },
  {
   "cell_type": "code",
   "execution_count": 13,
   "metadata": {},
   "outputs": [
    {
     "data": {
      "text/plain": [
       "array([ 4.,  2.])"
      ]
     },
     "execution_count": 13,
     "metadata": {},
     "output_type": "execute_result"
    }
   ],
   "source": [
    "eigen_val"
   ]
  },
  {
   "cell_type": "code",
   "execution_count": 14,
   "metadata": {},
   "outputs": [
    {
     "data": {
      "text/plain": [
       "array([[ 0.70710678, -0.70710678],\n",
       "       [ 0.70710678,  0.70710678]])"
      ]
     },
     "execution_count": 14,
     "metadata": {},
     "output_type": "execute_result"
    }
   ],
   "source": [
    "eigen_vec"
   ]
  },
  {
   "cell_type": "code",
   "execution_count": 15,
   "metadata": {},
   "outputs": [
    {
     "data": {
      "text/plain": [
       "array([ 0.70710678,  0.70710678])"
      ]
     },
     "execution_count": 15,
     "metadata": {},
     "output_type": "execute_result"
    }
   ],
   "source": [
    "eigen_vec[:,0]"
   ]
  },
  {
   "cell_type": "code",
   "execution_count": 16,
   "metadata": {},
   "outputs": [],
   "source": [
    "# All the vectors start at 0, 0 \n",
    "vX1 = np.r_[[0,0],A[:,0]]\n",
    "vY1 = np.r_[[0,0],A[:,1]]\n",
    "vE1 = np.r_[[0,0],eigen_vec[:,0]] * 2\n",
    "vE2 = np.r_[[0,0],eigen_vec[:,1]] * 2"
   ]
  },
  {
   "cell_type": "code",
   "execution_count": 17,
   "metadata": {},
   "outputs": [
    {
     "data": {
      "image/png": "[encoded data removed]",
      "text/plain": [
       "<matplotlib.figure.Figure at 0x111a9c240>"
      ]
     },
     "metadata": {},
     "output_type": "display_data"
    }
   ],
   "source": [
    "vector_plot([vX1, vY1, vE1, vE2])"
   ]
  },
  {
   "cell_type": "markdown",
   "metadata": {},
   "source": [
    "# 3 x 3 Matrix\n",
    "\n",
    "\n",
    "Let us write it in the form \n",
    "\n",
    "$$ Ax = \\lambda x $$\n",
    "\n",
    "$$ \\begin{bmatrix}1 & 1 & 1 \\\\ 3 & 8 & 1 \\\\ 5 & -4 & 3\\end{bmatrix}\\begin{bmatrix} x \\\\y \\\\ z\\end{bmatrix}= \\lambda \\begin{bmatrix} x\\\\ y \\\\ x \\end{bmatrix} $$\n"
   ]
  },
  {
   "cell_type": "code",
   "execution_count": 18,
   "metadata": {
    "collapsed": true
   },
   "outputs": [],
   "source": [
    "f = np.matrix([[1,1,1],\n",
    "               [3,8,1],\n",
    "               [5,-4,3]])"
   ]
  },
  {
   "cell_type": "code",
   "execution_count": 19,
   "metadata": {},
   "outputs": [
    {
     "data": {
      "text/plain": [
       "(array([-0.70156212,  5.70156212,  7.        ]),\n",
       " matrix([[ -5.44055877e-01,   8.18568585e-02,   1.73092434e-17],\n",
       "         [  9.17246072e-02,  -4.85526254e-01,  -7.07106781e-01],\n",
       "         [  8.34020263e-01,   8.70381360e-01,   7.07106781e-01]]))"
      ]
     },
     "execution_count": 19,
     "metadata": {},
     "output_type": "execute_result"
    }
   ],
   "source": [
    "np.linalg.eig(f)"
   ]
  },
  {
   "cell_type": "markdown",
   "metadata": {},
   "source": [
    "## Exercises on Eigenvalues and Eigenvectors\n",
    "\n",
    "$$ U =  \\begin{bmatrix}1 & 1 & 0 \\\\ 0 & 2 & 0 \\\\ 0 & -1 & 4\\end{bmatrix}$$\n",
    "\n",
    "$$ S =  \\begin{bmatrix}3 & 1 & 2 \\\\ 1 & 4 & 5 \\\\ 2 & 5 & 6 \\end{bmatrix}$$\n",
    "\n",
    "$$ T =  \\begin{bmatrix}5 & 8 \\\\ 0 & 5 \\end{bmatrix}$$\n",
    "\n",
    "\n",
    "Write the matrix as np.matrix and find the Eigenvalues and Eigenvectors?"
   ]
  },
  {
   "cell_type": "code",
   "execution_count": null,
   "metadata": {
    "collapsed": true
   },
   "outputs": [],
   "source": []
  },
  {
   "cell_type": "code",
   "execution_count": null,
   "metadata": {
    "collapsed": true
   },
   "outputs": [],
   "source": []
  },
  {
   "cell_type": "code",
   "execution_count": null,
   "metadata": {
    "collapsed": true
   },
   "outputs": [],
   "source": []
  },
  {
   "cell_type": "code",
   "execution_count": null,
   "metadata": {
    "collapsed": true
   },
   "outputs": [],
   "source": []
  },
  {
   "cell_type": "code",
   "execution_count": null,
   "metadata": {
    "collapsed": true
   },
   "outputs": [],
   "source": []
  },
  {
   "cell_type": "code",
   "execution_count": null,
   "metadata": {
    "collapsed": true
   },
   "outputs": [],
   "source": []
  },
  {
   "cell_type": "code",
   "execution_count": null,
   "metadata": {
    "collapsed": true
   },
   "outputs": [],
   "source": []
  },
  {
   "cell_type": "markdown",
   "metadata": {},
   "source": [
    "## Symmetric Matrix and Eigen Vectors\n",
    "\n",
    "$$ V =  \\begin{bmatrix}1 & 2 & -1 \\\\ 2 & -1 & -2 \\\\ -1 & -2 & 1\\end{bmatrix}$$\n"
   ]
  },
  {
   "cell_type": "code",
   "execution_count": null,
   "metadata": {
    "collapsed": true
   },
   "outputs": [],
   "source": []
  },
  {
   "cell_type": "code",
   "execution_count": null,
   "metadata": {
    "collapsed": true
   },
   "outputs": [],
   "source": []
  },
  {
   "cell_type": "code",
   "execution_count": null,
   "metadata": {
    "collapsed": true
   },
   "outputs": [],
   "source": []
  },
  {
   "cell_type": "code",
   "execution_count": null,
   "metadata": {
    "collapsed": true
   },
   "outputs": [],
   "source": []
  },
  {
   "cell_type": "code",
   "execution_count": null,
   "metadata": {
    "collapsed": true
   },
   "outputs": [],
   "source": []
  },
  {
   "cell_type": "code",
   "execution_count": null,
   "metadata": {
    "collapsed": true
   },
   "outputs": [],
   "source": []
  },
  {
   "cell_type": "code",
   "execution_count": null,
   "metadata": {
    "collapsed": true
   },
   "outputs": [],
   "source": []
  },
  {
   "cell_type": "code",
   "execution_count": null,
   "metadata": {
    "collapsed": true
   },
   "outputs": [],
   "source": []
  },
  {
   "cell_type": "code",
   "execution_count": null,
   "metadata": {
    "collapsed": true
   },
   "outputs": [],
   "source": []
  }
 ],
 "metadata": {
  "anaconda-cloud": {},
  "kernelspec": {
   "display_name": "Python [default]",
   "language": "python",
   "name": "python3"
  },
  "language_info": {
   "codemirror_mode": {
    "name": "ipython",
    "version": 3
   },
   "file_extension": ".py",
   "mimetype": "text/x-python",
   "name": "python",
   "nbconvert_exporter": "python",
   "pygments_lexer": "ipython3",
   "version": "3.6.2"
  }
 },
 "nbformat": 4,
 "nbformat_minor": 1
}
