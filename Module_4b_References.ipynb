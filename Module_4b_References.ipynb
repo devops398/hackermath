{
 "cells": [
  {
   "cell_type": "markdown",
   "metadata": {},
   "source": [
    "# Books, Slides, Articles\n",
    "1. Book: [Think Stats](http://greenteapress.com/thinkstats2/)\n",
    "2. Book: [All of Statistics](http://www.stat.cmu.edu/~larry/all-of-statistics/)\n",
    "2. Book: [Statistics is Easy](http://www.amazon.com/Statistics-Edition-Synthesis-Lectures-Mathematics/dp/160845570X)\n",
    "3. Workshop: Computational Statistics Workshop, Allen Donwney SciPy 2015 [Repo](https://github.com/AllenDowney/CompStats) [Video](https://www.youtube.com/watch?v=5Vjrqnk7Igs)\n",
    "4. Slides: [Statistics for Hackers](https://speakerdeck.com/jakevdp/statistics-for-hackers)\n",
    "\n",
    "\n",
    "# Courses\n",
    "1. Linear Algebra: [Introduction to Linear Algebra by Gilbert Strang](http://ocw.mit.edu/courses/mathematics/18-06-linear-algebra-spring-2010/video-lectures/) - 18.06 MIT Open Courseware\n",
    "2. [Learning from Data](https://work.caltech.edu/telecourse.html) by Yaser Abu-Mostafa (Caltech Course)\n",
    "3. [Introduction to Statistical Learning](http://www-bcf.usc.edu/~gareth/ISL/) - Gareth James, Daniela Witten, Trevor Hastie and Robert Tibshirani\n",
    "\n"
   ]
  },
  {
   "cell_type": "code",
   "execution_count": null,
   "metadata": {
    "collapsed": true
   },
   "outputs": [],
   "source": []
  }
 ],
 "metadata": {
  "anaconda-cloud": {},
  "kernelspec": {
   "display_name": "Python [default]",
   "language": "python",
   "name": "python3"
  },
  "language_info": {
   "codemirror_mode": {
    "name": "ipython",
    "version": 3
   },
   "file_extension": ".py",
   "mimetype": "text/x-python",
   "name": "python",
   "nbconvert_exporter": "python",
   "pygments_lexer": "ipython3",
   "version": "3.5.2"
  }
 },
 "nbformat": 4,
 "nbformat_minor": 0
}
