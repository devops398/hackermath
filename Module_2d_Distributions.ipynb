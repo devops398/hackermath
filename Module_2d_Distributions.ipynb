{
 "cells": [
  {
   "cell_type": "markdown",
   "metadata": {},
   "source": [
    "# Distribution\n",
    "> the way in which something is shared out among a group or spread over an area\n",
    "\n",
    "### Random Variable\n",
    "> a variable whose value is subject to variations due to chance (i.e. randomness, in a mathematical sense). A random variable can take on a set of possible different values (similarly to other mathematical variables), each with an associated probability [wiki](https://en.wikipedia.org/wiki/Random_variable)\n",
    "\n",
    "**Types**\n",
    "\n",
    "1. Discrete Random Variables <br>\n",
    "    Eg: Genders of the buyers buying shoe\n",
    "2. Continuous Random Variables <br>\n",
    "    Eg: Shoe Sales in a quarter\n",
    "    \n",
    "### Probability Distribution\n",
    "> Assigns a probability to each measurable subset of the possible outcomes of a random experiment, survey, or procedure of statistical inference. [wiki](https://en.wikipedia.org/wiki/Probability_distribution)\n",
    "\n",
    "#### Probability Mass Function\n",
    "probability mass function (pmf) is a function that gives the probability that a discrete random variable is exactly equal to some value\n",
    "\n",
    "#### Discrete probability distribution(Cumulative Mass Function)\n",
    "probability distribution characterized by a probability mass function\n",
    "\n",
    "#### Probability Density Function\n",
    "function that describes the relative likelihood for this random variable to take on a given value\n",
    "\n",
    "#### Continuous probability distribution(Cumulative Density function)\n",
    "probability that the variable takes a value less than or equal to `x`\n",
    "\n",
    "### Central Limit Theorem\n",
    "Given certain conditions, the arithmetic mean of a sufficiently large number of iterates of independent random variables, each with a well-defined expected value and well-defined variance, will be approximately normally distributed, regardless of the underlying distribution. [wiki](https://en.wikipedia.org/wiki/Central_limit_theorem)\n",
    "\n",
    "#### Normal Distribution\n",
    "A bell shaped distribution. It is also called Gaussian distribution\n",
    "\n",
    "<img style=\"float: left;\" src=\"img/normaldist.png\" height=\"220\" width=\"220\">\n",
    "<br>\n",
    "<br>\n",
    "<br>\n",
    "<br>\n",
    "\n",
    "\n",
    "\n",
    "**PDF**\n",
    "<br>\n",
    "<br>\n",
    "<img style=\"float: left;\" src=\"img/normal_pdf.png\" height=\"320\" width=\"320\">\n",
    "<br>\n",
    "<br>\n",
    "<br>\n",
    "<br>\n",
    "<br>\n",
    "<br>\n",
    "<br>\n",
    "<br>\n",
    "<br>\n",
    "<br>\n",
    "<br>\n",
    "<br>\n",
    "<br>\n",
    "\n",
    "**CDF**\n",
    "<br>\n",
    "<br>\n",
    "\n",
    "\n",
    "<img style=\"float: left;\" src=\"img/normal_cdf.png\" height=\"320\" width=\"320\">\n",
    "\n",
    "<br>\n",
    "<br>\n",
    "<br>\n",
    "<br>\n",
    "<br>\n",
    "<br>\n",
    "<br>\n",
    "<br>\n",
    "<br>\n",
    "<br>\n",
    "\n",
    "\n",
    "#### Skewness\n",
    "Measure of the asymmetry of the probability distribution of a real-valued random variable about its mean. [wiki](https://en.wikipedia.org/wiki/Skewness)\n",
    "\n",
    "<img style=\"float: left;\" src=\"img/skewness.png\" height=\"620\" width=\"620\">\n",
    "<br>\n",
    "<br>\n",
    "<br>\n",
    "<br>\n",
    "<br>\n",
    "<br>\n",
    "<br>\n",
    "<br>\n",
    "<br>\n",
    "<br>\n",
    "<br>\n",
    "#### Kurtosis\n",
    "Measure of the \"peakedness\" of the probability distribution of a real-valued random variable [wiki](https://en.wikipedia.org/wiki/Kurtosis)\n",
    "<br>\n",
    "<br>\n",
    "<img style=\"float: left;\" src=\"img/kurtosis.png\" height=\"420\" width=\"420\">\n",
    "<br>\n",
    "<br>\n",
    "<br>\n",
    "<br>\n",
    "<br>\n",
    "<br>\n",
    "<br>\n",
    "<br>\n",
    "<br>\n",
    "<br>\n",
    "<br>\n",
    "<br>\n",
    "<br>\n",
    "<br>\n",
    "<br>\n",
    "<br>\n",
    "<br>\n",
    "<br>\n",
    "\n",
    "#### Binomial Distribution\n",
    "\n",
    "Binomial distribution with parameters `n` and `p` is the discrete probability distribution of the number of successes in a sequence of n independent yes/no experiments, each of which yields success with probability p. A success/failure experiment is also called a Bernoulli experiment or Bernoulli trial; when n = 1, the binomial distribution is a Bernoulli distribution  [wiki](https://en.wikipedia.org/wiki/Binomial_distribution)\n",
    "<br>\n",
    "<br>\n",
    "<img style=\"float: left;\" src=\"img/binomial_pmf.png\" height=\"420\" width=\"420\">\n",
    "<br>\n",
    "<br>\n",
    "<br>\n",
    "\n",
    "\n",
    "#### Exponential Distribution\n",
    "Probability distribution that describes the time between events in a Poisson process, i.e. a process in which events occur continuously and independently at a constant average rate. It has the key property of being memoryless. [wiki](https://en.wikipedia.org/wiki/Exponential_distribution)\n",
    "<br>\n",
    "<br>\n",
    "<img style=\"float: left;\" src=\"img/exponential_pdf.png\" height=\"420\" width=\"420\">\n",
    "<br>\n",
    "<br>\n",
    "<br>\n",
    "<br>\n",
    "<br>\n",
    "<br>\n",
    "<br>\n",
    "<br>\n",
    "<br>\n",
    "<br>\n",
    "<br>\n",
    "<br>\n",
    "<br>\n",
    "<br>\n",
    "<br>\n",
    "<br>\n",
    "<br>\n",
    "<br>\n",
    "\n",
    "#### Uniform distribution\n",
    "All values have the same frequency [wiki](https://en.wikipedia.org/wiki/Uniform_distribution_(continuous))\n",
    "\n",
    "\n",
    "<br> \n",
    "<br>\n",
    "<img style=\"float: left;\" src=\"img/uniform.png\" height=\"420\" width=\"420\">\n",
    "<br>\n",
    "<br>\n",
    "<br>\n",
    "<br>\n",
    "<br>\n",
    "<br>\n",
    "<br>\n",
    "<br>\n",
    "<br>\n",
    "<br>\n",
    "<br>\n",
    "<br>\n",
    "<br>\n",
    "<br>\n",
    "<br>\n",
    "<br>\n",
    "<br>\n",
    "<br>\n",
    "\n",
    "\n",
    "\n",
    "\n",
    "### 6-sigma philosophy\n",
    "<img style=\"float: left;\" src=\"img/6sigma.png\" height=\"520\" width=\"520\">"
   ]
  },
  {
   "cell_type": "markdown",
   "metadata": {},
   "source": [
    "### Histograms\n",
    "\n",
    "Most commonly used representation of a distribution.\n",
    "\n",
    "Let's plot distribution of weed prices for 2014"
   ]
  },
  {
   "cell_type": "code",
   "execution_count": 1,
   "metadata": {
    "collapsed": false
   },
   "outputs": [],
   "source": [
    "import pandas as pd\n",
    "import seaborn as sns\n",
    "sns.set(color_codes=True)\n",
    "%matplotlib inline"
   ]
  },
  {
   "cell_type": "code",
   "execution_count": 3,
   "metadata": {
    "collapsed": true
   },
   "outputs": [],
   "source": [
    "#Import the data\n",
    "cars = pd.read_csv(\"cars_v1.csv\", encoding=\"ISO-8859-1\")"
   ]
  },
  {
   "cell_type": "code",
   "execution_count": 6,
   "metadata": {
    "collapsed": false
   },
   "outputs": [],
   "source": [
    "#Replace missing values in Mileage with mean\n",
    "cars.Mileage.fillna(cars.Mileage.mean(), inplace=True)"
   ]
  },
  {
   "cell_type": "code",
   "execution_count": 7,
   "metadata": {
    "collapsed": false
   },
   "outputs": [
    {
     "data": {
      "text/plain": [
       "<matplotlib.axes._subplots.AxesSubplot at 0x11c699438>"
      ]
     },
     "execution_count": 7,
     "metadata": {},
     "output_type": "execute_result"
    },
    {
     "data": {
      "image/png": "[encoded data removed]",
      "text/plain": [
       "<matplotlib.figure.Figure at 0x11c685cf8>"
      ]
     },
     "metadata": {},
     "output_type": "display_data"
    }
   ],
   "source": [
    "sns.distplot(cars.Mileage, kde=False)"
   ]
  },
  {
   "cell_type": "markdown",
   "metadata": {},
   "source": [
    "**Question If you randomly select a car, what is the probability, with equal chances of selecting any of the make available in our dataset, that the mileage will be greater than 25? **"
   ]
  },
  {
   "cell_type": "code",
   "execution_count": null,
   "metadata": {
    "collapsed": false
   },
   "outputs": [],
   "source": [
    "sns.distplot(cars.Mileage, bins=range(0,50,1))"
   ]
  },
  {
   "cell_type": "markdown",
   "metadata": {
    "collapsed": true
   },
   "source": [
    "#Using `scipy` to use distribution"
   ]
  },
  {
   "cell_type": "code",
   "execution_count": 12,
   "metadata": {
    "collapsed": true
   },
   "outputs": [],
   "source": [
    "from scipy import stats\n",
    "import scipy as sp\n",
    "import numpy as np\n",
    "import matplotlib as mpl\n",
    "from matplotlib import pyplot as plt\n",
    "%matplotlib inline"
   ]
  },
  {
   "cell_type": "code",
   "execution_count": 13,
   "metadata": {
    "collapsed": false
   },
   "outputs": [
    {
     "data": {
      "text/plain": [
       "<matplotlib.collections.PathCollection at 0x11d6a95f8>"
      ]
     },
     "execution_count": 13,
     "metadata": {},
     "output_type": "execute_result"
    },
    {
     "data": {
      "image/png": "[encoded data removed]",
      "text/plain": [
       "<matplotlib.figure.Figure at 0x119dd2898>"
      ]
     },
     "metadata": {},
     "output_type": "display_data"
    }
   ],
   "source": [
    "#Generate random numbers that are normally distributed\n",
    "random_normal = sp.randn(100)\n",
    "plt.scatter(range(100), random_normal)"
   ]
  },
  {
   "cell_type": "code",
   "execution_count": null,
   "metadata": {
    "collapsed": false
   },
   "outputs": [],
   "source": [
    "print \"mean:\", random_normal.mean(), \" variance:\", random_normal.var()"
   ]
  },
  {
   "cell_type": "code",
   "execution_count": 15,
   "metadata": {
    "collapsed": true
   },
   "outputs": [],
   "source": [
    "#Create a normal distribution with mean 2.5 and standard deviation 1.7\n",
    "\n",
    "n = stats.norm(loc=2.5, scale=1.7)"
   ]
  },
  {
   "cell_type": "code",
   "execution_count": 16,
   "metadata": {
    "collapsed": false
   },
   "outputs": [
    {
     "data": {
      "text/plain": [
       "0.542441366031919"
      ]
     },
     "execution_count": 16,
     "metadata": {},
     "output_type": "execute_result"
    }
   ],
   "source": [
    "#Generate random number from that distribution\n",
    "n.rvs()"
   ]
  },
  {
   "cell_type": "code",
   "execution_count": 17,
   "metadata": {
    "collapsed": false
   },
   "outputs": [
    {
     "data": {
      "text/plain": [
       "0.10157711386142985"
      ]
     },
     "execution_count": 17,
     "metadata": {},
     "output_type": "execute_result"
    }
   ],
   "source": [
    "#for the above normal distribution, what is the pdf at 0.3?\n",
    "n.pdf(0.3)"
   ]
  },
  {
   "cell_type": "code",
   "execution_count": 18,
   "metadata": {
    "collapsed": true
   },
   "outputs": [],
   "source": [
    "#Binomial distribution with `p` = 0.4 and number of trials as 15"
   ]
  },
  {
   "cell_type": "code",
   "execution_count": 19,
   "metadata": {
    "collapsed": false
   },
   "outputs": [
    {
     "data": {
      "text/plain": [
       "array([  6.04661760e-03,   4.03107840e-02,   1.20932352e-01,\n",
       "         2.14990848e-01,   2.50822656e-01,   2.00658125e-01,\n",
       "         1.11476736e-01,   4.24673280e-02,   1.06168320e-02,\n",
       "         1.57286400e-03,   1.04857600e-04,   0.00000000e+00,\n",
       "         0.00000000e+00,   0.00000000e+00,   0.00000000e+00])"
      ]
     },
     "execution_count": 19,
     "metadata": {},
     "output_type": "execute_result"
    }
   ],
   "source": [
    "stats.binom.pmf(range(15), 10, 0.4)"
   ]
  },
  {
   "cell_type": "markdown",
   "metadata": {},
   "source": [
    "### Standard Error\n",
    "\n",
    "It is a measure of how far the estimate to be off, on average. More technically, it is the standard deviation of the sampling distribution of a statistic(mostly the mean). Please do not confuse it with *standard deviation*. Standard deviation is a measure of the variability of the observed quantity. Standard error, on the other hand, describes variability of the estimate. \n",
    "\n"
   ]
  },
  {
   "cell_type": "markdown",
   "metadata": {},
   "source": [
    "To illustrate this, let's do the following.\n",
    "\n",
    "Not all the make and models are available in our dataset. Also, we had to impute some of the values. \n",
    "\n",
    "Let's say that a leading automobile magazine did an extensive survey and printed that the mean mileage is 22.7. \n",
    "\n",
    "Compute standard deviation and standard error for the mean for our dataset"
   ]
  },
  {
   "cell_type": "code",
   "execution_count": 20,
   "metadata": {
    "collapsed": false
   },
   "outputs": [
    {
     "data": {
      "text/html": [
       "<div>\n",
       "<table border=\"1\" class=\"dataframe\">\n",
       "  <thead>\n",
       "    <tr style=\"text-align: right;\">\n",
       "      <th></th>\n",
       "      <th>Make</th>\n",
       "      <th>Model</th>\n",
       "      <th>Price</th>\n",
       "      <th>Type</th>\n",
       "      <th>ABS</th>\n",
       "      <th>BootSpace</th>\n",
       "      <th>GearType</th>\n",
       "      <th>AirBag</th>\n",
       "      <th>Engine</th>\n",
       "      <th>FuelCapacity</th>\n",
       "      <th>Mileage</th>\n",
       "    </tr>\n",
       "  </thead>\n",
       "  <tbody>\n",
       "    <tr>\n",
       "      <th>0</th>\n",
       "      <td>Ashok Leyland Stile</td>\n",
       "      <td>Ashok Leyland Stile LE 8-STR (Diesel)</td>\n",
       "      <td>750</td>\n",
       "      <td>MPV</td>\n",
       "      <td>No</td>\n",
       "      <td>500.0</td>\n",
       "      <td>Manual</td>\n",
       "      <td>No</td>\n",
       "      <td>1461.0</td>\n",
       "      <td>50.0</td>\n",
       "      <td>20.7</td>\n",
       "    </tr>\n",
       "    <tr>\n",
       "      <th>1</th>\n",
       "      <td>Ashok Leyland Stile</td>\n",
       "      <td>Ashok Leyland Stile LS 8-STR (Diesel)</td>\n",
       "      <td>800</td>\n",
       "      <td>MPV</td>\n",
       "      <td>No</td>\n",
       "      <td>500.0</td>\n",
       "      <td>Manual</td>\n",
       "      <td>No</td>\n",
       "      <td>1461.0</td>\n",
       "      <td>50.0</td>\n",
       "      <td>20.7</td>\n",
       "    </tr>\n",
       "    <tr>\n",
       "      <th>2</th>\n",
       "      <td>Ashok Leyland Stile</td>\n",
       "      <td>Ashok Leyland Stile LX 8-STR (Diesel)</td>\n",
       "      <td>830</td>\n",
       "      <td>MPV</td>\n",
       "      <td>No</td>\n",
       "      <td>500.0</td>\n",
       "      <td>Manual</td>\n",
       "      <td>No</td>\n",
       "      <td>1461.0</td>\n",
       "      <td>50.0</td>\n",
       "      <td>20.7</td>\n",
       "    </tr>\n",
       "    <tr>\n",
       "      <th>3</th>\n",
       "      <td>Ashok Leyland Stile</td>\n",
       "      <td>Ashok Leyland Stile LS 7-STR (Diesel)</td>\n",
       "      <td>850</td>\n",
       "      <td>MPV</td>\n",
       "      <td>No</td>\n",
       "      <td>500.0</td>\n",
       "      <td>Manual</td>\n",
       "      <td>No</td>\n",
       "      <td>1461.0</td>\n",
       "      <td>50.0</td>\n",
       "      <td>20.7</td>\n",
       "    </tr>\n",
       "    <tr>\n",
       "      <th>4</th>\n",
       "      <td>Ashok Leyland Stile</td>\n",
       "      <td>Ashok Leyland Stile LS 7-STR Alloy (Diesel)</td>\n",
       "      <td>880</td>\n",
       "      <td>MPV</td>\n",
       "      <td>No</td>\n",
       "      <td>500.0</td>\n",
       "      <td>Manual</td>\n",
       "      <td>No</td>\n",
       "      <td>1461.0</td>\n",
       "      <td>50.0</td>\n",
       "      <td>20.7</td>\n",
       "    </tr>\n",
       "  </tbody>\n",
       "</table>\n",
       "</div>"
      ],
      "text/plain": [
       "                  Make                                        Model  Price  \\\n",
       "0  Ashok Leyland Stile        Ashok Leyland Stile LE 8-STR (Diesel)    750   \n",
       "1  Ashok Leyland Stile        Ashok Leyland Stile LS 8-STR (Diesel)    800   \n",
       "2  Ashok Leyland Stile        Ashok Leyland Stile LX 8-STR (Diesel)    830   \n",
       "3  Ashok Leyland Stile        Ashok Leyland Stile LS 7-STR (Diesel)    850   \n",
       "4  Ashok Leyland Stile  Ashok Leyland Stile LS 7-STR Alloy (Diesel)    880   \n",
       "\n",
       "  Type  ABS  BootSpace GearType AirBag  Engine  FuelCapacity  Mileage  \n",
       "0  MPV   No      500.0   Manual     No  1461.0          50.0     20.7  \n",
       "1  MPV   No      500.0   Manual     No  1461.0          50.0     20.7  \n",
       "2  MPV   No      500.0   Manual     No  1461.0          50.0     20.7  \n",
       "3  MPV   No      500.0   Manual     No  1461.0          50.0     20.7  \n",
       "4  MPV   No      500.0   Manual     No  1461.0          50.0     20.7  "
      ]
     },
     "execution_count": 20,
     "metadata": {},
     "output_type": "execute_result"
    }
   ],
   "source": [
    "cars.head()"
   ]
  },
  {
   "cell_type": "code",
   "execution_count": 23,
   "metadata": {
    "collapsed": false
   },
   "outputs": [
    {
     "name": "stdout",
     "output_type": "stream",
     "text": [
      " Sample Mean: 17.480407854984836 \n",
      " Sample Standard Deviation: 4.086421315837099\n"
     ]
    }
   ],
   "source": [
    "#Mean and standard deviation of car's mileage\n",
    "print(\" Sample Mean:\", cars.Mileage.mean(), \"\\n\", \"Sample Standard Deviation:\", cars.Mileage.std())"
   ]
  },
  {
   "cell_type": "code",
   "execution_count": 28,
   "metadata": {
    "collapsed": false
   },
   "outputs": [
    {
     "name": "stdout",
     "output_type": "stream",
     "text": [
      " Max Mileage: 30.0 \n",
      " Min Mileage: 5.0\n"
     ]
    }
   ],
   "source": [
    "print(\" Max Mileage:\", cars.Mileage.max(), \"\\n\", \"Min Mileage:\", cars.Mileage.min())"
   ]
  },
  {
   "cell_type": "markdown",
   "metadata": {},
   "source": [
    "We'll follow the same procedures we did in the `resampling.ipynb`.  We will bootstrap samples from actual observed data 10,000 times and compute difference between sample mean and actual mean. Find root mean squared error to get standard error"
   ]
  },
  {
   "cell_type": "code",
   "execution_count": 29,
   "metadata": {
    "collapsed": false
   },
   "outputs": [],
   "source": [
    "def squared_error(bootstrap_sample, actual_mean):\n",
    "    return np.square(bootstrap_sample.mean() - actual_mean)\n",
    "\n",
    "def experiment_for_computing_standard_error(observed_mileage, number_of_times, actual_mean):\n",
    "    bootstrap_mean = np.empty([number_of_times, 1], dtype=np.int32)\n",
    "    bootstrap_sample = np.random.choice(observed_mileage, size=[observed_mileage.size, number_of_times], replace=True)\n",
    "    bootstrap_squared_error = np.apply_along_axis(squared_error, 1, bootstrap_sample, actual_mean)\n",
    "    return np.sqrt(bootstrap_squared_error.mean())"
   ]
  },
  {
   "cell_type": "code",
   "execution_count": 30,
   "metadata": {
    "collapsed": false
   },
   "outputs": [
    {
     "data": {
      "text/plain": [
       "5.3759376209847147"
      ]
     },
     "execution_count": 30,
     "metadata": {},
     "output_type": "execute_result"
    }
   ],
   "source": [
    "#Standard error of the estimate for mean\n",
    "experiment_for_computing_standard_error(np.array(cars.Mileage), 10, 22.7)"
   ]
  },
  {
   "cell_type": "code",
   "execution_count": null,
   "metadata": {
    "collapsed": true
   },
   "outputs": [],
   "source": []
  }
 ],
 "metadata": {
  "anaconda-cloud": {},
  "kernelspec": {
   "display_name": "Python [default]",
   "language": "python",
   "name": "python3"
  },
  "language_info": {
   "codemirror_mode": {
    "name": "ipython",
    "version": 3
   },
   "file_extension": ".py",
   "mimetype": "text/x-python",
   "name": "python",
   "nbconvert_exporter": "python",
   "pygments_lexer": "ipython3",
   "version": "3.5.2"
  }
 },
 "nbformat": 4,
 "nbformat_minor": 0
}
